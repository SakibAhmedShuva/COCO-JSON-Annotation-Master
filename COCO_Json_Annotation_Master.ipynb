{
 "cells": [
  {
   "cell_type": "code",
   "execution_count": 1,
   "metadata": {},
   "outputs": [],
   "source": [
    "import json\n",
    "\n",
    "# Load the JSON file\n",
    "with open(r'd:\\OneDrive - Personal\\DS\\My Scripts\\modified_annotations.json', 'r') as f:\n",
    "    data = json.load(f)"
   ]
  },
  {
   "cell_type": "markdown",
   "metadata": {},
   "source": [
    "# 1. Check all annotations"
   ]
  },
  {
   "cell_type": "code",
   "execution_count": 2,
   "metadata": {},
   "outputs": [
    {
     "name": "stdout",
     "output_type": "stream",
     "text": [
      "\n",
      "Annotation ID: 0\n",
      "Image ID: 0\n",
      "Category ID: 24\n",
      "Segmentation: [[84.682, 365.781, 152.428, 299.003, 257.036, 211.296, 356.663, 151.495, 404.483, 136.545, 448.319, 143.522, 496.982, 164.682, 523.039, 193.355, 601.743, 281.063, 670.486, 364.784, 265.006, 462.458]]\n",
      "Area: 190921.139\n",
      "Bbox: [85, 137, 585.804, 325.913]\n",
      "Isegmentation: [[84.682, 365.781, 152.428, 299.003, 257.036, 211.296, 356.663, 151.495, 404.483, 136.545, 448.319, 143.522, 496.982, 164.682, 523.039, 193.355, 601.743, 281.063, 670.486, 364.784, 265.006, 462.458]]\n",
      "Iscrowd: 0\n",
      "\n",
      "\n",
      "Annotation ID: 1\n",
      "Image ID: 1\n",
      "Category ID: 12\n",
      "Segmentation: [[242.792, 235.446, 281.82, 347.832, 300.433, 356.631, 383.528, 347.76, 471.657, 331.854, 460.359, 279.371, 379.932, 13.268, 346.807, 12.111, 342.453, 12.212, 295.011, 14.162, 214.612, 51.325, 202.23, 68.396, 213.451, 126.517, 242.792, 235.446]]\n",
      "Area: 92822.99\n",
      "Bbox: [202, 12, 269.427, 344.52]\n",
      "Isegmentation: [[242.792, 235.446, 281.82, 347.832, 300.433, 356.631, 383.528, 347.76, 471.657, 331.854, 460.359, 279.371, 379.932, 13.268, 346.807, 12.111, 342.453, 12.212, 295.011, 14.162, 214.612, 51.325, 202.23, 68.396, 213.451, 126.517, 242.792, 235.446]]\n",
      "Iscrowd: 0\n",
      "\n"
     ]
    }
   ],
   "source": [
    "# Iterate over all annotations\n",
    "for annotation in data['annotations']:\n",
    "    print(f\"Annotation ID: {annotation['id']}\")\n",
    "    print(f\"Image ID: {annotation['image_id']}\")\n",
    "    print(f\"Category ID: {annotation['category_id']}\")\n",
    "    print(f\"Segmentation: {annotation['segmentation']}\")\n",
    "    print(f\"Area: {annotation['area']}\")\n",
    "    print(f\"Bbox: {annotation['bbox']}\")\n",
    "    print(f\"Isegmentation: {annotation['segmentation']}\")\n",
    "    print(f\"Iscrowd: {annotation['iscrowd']}\")\n",
    "    print(\"\\n\")"
   ]
  },
  {
   "cell_type": "markdown",
   "metadata": {},
   "source": [
    "# 2. Check all labels"
   ]
  },
  {
   "cell_type": "code",
   "execution_count": 3,
   "metadata": {},
   "outputs": [
    {
     "name": "stdout",
     "output_type": "stream",
     "text": [
      "\n",
      "Available labels (sorted alphabetically) with occurrences:\n",
      "AC Climate Control Block: 141\n",
      "Armrests: 155\n",
      "Bluetooth: 159\n",
      "Center Console: 190\n",
      "Cruise Control: 68\n",
      "Driver Dash Controls: 88\n",
      "Driver Seat: 208\n",
      "Front Left Door Panel: 63\n",
      "Gearbox: 232\n",
      "HMI Multimedia Screen: 147\n",
      "Hand Brake Button: 93\n",
      "Light Knobs: 84\n",
      "Multimedia Control: 72\n",
      "Multimedia Knob Joystick: 116\n",
      "Odometer: 212\n",
      "Passenger Seat: 204\n",
      "Rear Air Vents: 36\n",
      "Rear Left Seat: 66\n",
      "Rear Right Seat: 67\n",
      "Steering Wheel: 302\n",
      "Sunroof: 27\n",
      "Touchscreen: 210\n",
      "Wiper Knobs: 78\n",
      "\n",
      "Total unique labels detected: 23\n",
      "Total annotations detected: 3018\n",
      "\n",
      "\n"
     ]
    }
   ],
   "source": [
    "from collections import defaultdict\n",
    "\n",
    "# Create a dictionary to store the count of occurrences for each category\n",
    "category_count = defaultdict(int)\n",
    "\n",
    "# Create a mapping of category ID to category name\n",
    "category_id_to_name = {category['id']: category['name'] for category in data['categories']}\n",
    "\n",
    "# Count the occurrences of each category in the annotations\n",
    "for annotation in data['annotations']:\n",
    "    category_id = annotation['category_id']\n",
    "    category_name = category_id_to_name.get(category_id, \"Unknown\")\n",
    "    category_count[category_name] += 1\n",
    "\n",
    "# Get all unique category names and sort them\n",
    "category_names = sorted(category_count.keys())\n",
    "\n",
    "# Print the category names in alphabetical order along with their occurrences\n",
    "print(\"Available labels (sorted alphabetically) with occurrences:\")\n",
    "for category_name in category_names:\n",
    "    print(f\"{category_name}: {category_count[category_name]}\")\n",
    "\n",
    "# Print the total number of unique labels and annotations detected\n",
    "print(f\"\\nTotal unique labels detected: {len(category_names)}\")\n",
    "print(f\"Total annotations detected: {len(data['annotations'])}\")\n"
   ]
  },
  {
   "cell_type": "markdown",
   "metadata": {},
   "source": [
    "# 3. Searching Labels"
   ]
  },
  {
   "cell_type": "code",
   "execution_count": 18,
   "metadata": {},
   "outputs": [
    {
     "name": "stdout",
     "output_type": "stream",
     "text": [
      "Image IDs, file names, and labels containing 'Sunroof':\n",
      "Image ID: 0, File Name: ed84ed88-27_jpg.rf.d88ba56f75beeb973f93b28e0a9e60f5.jpg, Found Labels: Sunroof\n",
      "Image ID: 12, File Name: 9cea0964-27_jpg.rf.d8ed9f69701642912670049509ec7401.jpg, Found Labels: Sunroof\n",
      "Image ID: 41, File Name: f8d0bc35-29_jpg.rf.e1e7e63603d326d08f9cc7f67c0705f4.jpg, Found Labels: Sunroof\n",
      "Image ID: 68, File Name: be617994-25_jpg.rf.ebbde7a55a351cb2bd5256c3c850babd.jpg, Found Labels: Sunroof\n",
      "Image ID: 76, File Name: d4d0fa66-27_jpg.rf.ec0c2e04e8c62e2f73c63a07fc948d71.jpg, Found Labels: Sunroof\n",
      "Image ID: 91, File Name: 9020babc-26_jpg.rf.f651b60c57a3eae7b0047ef7c15f0418.jpg, Found Labels: Sunroof\n",
      "Image ID: 110, File Name: 8b7d8f07-27_jpg.rf.fbbf118e7f09b37eb5718ce1400af64f.jpg, Found Labels: Sunroof\n",
      "Image ID: 114, File Name: 348022c6-26_jpg.rf.fdcd5f1f6099b85b0568a9212e4a0e69.jpg, Found Labels: Sunroof\n",
      "Image ID: 133, File Name: 43cd4125-27_jpg.rf.fcd78418200e8f024c4c2063707cae89.jpg, Found Labels: Sunroof\n",
      "Image ID: 237, File Name: ef106ea7-30_jpg.rf.aa0da6ea987e15bf8bd8492ad498529f.jpg, Found Labels: Sunroof\n",
      "Image ID: 290, File Name: a2aef5cf-29_jpg.rf.bd768bb327079a058171d5488840260f.jpg, Found Labels: Sunroof\n",
      "Image ID: 325, File Name: 260a0e8c-29_jpg.rf.c9ea686501559b705cba8727834ebf64.jpg, Found Labels: Sunroof\n",
      "Image ID: 376, File Name: 73488f8d-27_jpg.rf.d71914b3735fd58c48606fbed4e996af.jpg, Found Labels: Sunroof\n",
      "Image ID: 388, File Name: 720a780d-27_jpg.rf.47cd3cc7549dcf778a36124ca9fa4f85.jpg, Found Labels: Sunroof\n",
      "Image ID: 396, File Name: 9ff352e7-26_jpg.rf.4b1302935389058d80e2a213bea32dea.jpg, Found Labels: Sunroof\n",
      "Image ID: 405, File Name: 0381a4f2-27_jpg.rf.4a82f4a59bf4dccca065b9b9a12992b8.jpg, Found Labels: Sunroof\n",
      "Image ID: 598, File Name: e7145b45-30_jpg.rf.80322350a3d29c175fe6267b828ac933.jpg, Found Labels: Sunroof\n",
      "Image ID: 628, File Name: 837e9da6-26_jpg.rf.8ab086d2c6a0e357b219bfce8fecd401.jpg, Found Labels: Sunroof\n",
      "Image ID: 678, File Name: 5479cb83-27_jpg.rf.081041a02fdc7ffa01d549d11d272536.jpg, Found Labels: Sunroof\n",
      "Image ID: 698, File Name: 02f89cf3-30_jpg.rf.0f7f2a4596ddacfff7460eb44e0a14e4.jpg, Found Labels: Sunroof\n",
      "Image ID: 714, File Name: 94763e50-30_jpg.rf.189b4015a3a7c7c10af7671566e0c64b.jpg, Found Labels: Sunroof\n",
      "Image ID: 758, File Name: d254fb76-22_jpg.rf.20e4ca41089c1514a162ca5548208721.jpg, Found Labels: Sunroof\n",
      "Image ID: 814, File Name: 155a3dd7-22_jpg.rf.3402d8f91c4b2a5baa280c6e62eb2678.jpg, Found Labels: Sunroof\n",
      "Image ID: 841, File Name: d2612c3f-27_jpg.rf.3a2b95ae851cc26e89d8a9e608791152.jpg, Found Labels: Sunroof\n",
      "Image ID: 851, File Name: 2bc14913-30_jpg.rf.3ca25cac25b5650857245f679c89448c.jpg, Found Labels: Sunroof\n",
      "Image ID: 852, File Name: 3518d6bd-27_jpg.rf.3df7528492a356a15c160a31eaa4573f.jpg, Found Labels: Sunroof\n",
      "Image ID: 854, File Name: ae1f0a1e-26_jpg.rf.400fc3ddf0041e9925a8aaf2561e803f.jpg, Found Labels: Sunroof\n",
      "\n",
      "Label containing 'Sunroof' found in 27 images.\n"
     ]
    }
   ],
   "source": [
    "def search_images_by_label(data, search_label):\n",
    "    # Get all file names and image IDs where the specified label is present\n",
    "    result_images = {}\n",
    "\n",
    "    # Create a dictionary to map image_id to file_name\n",
    "    image_id_to_file_name = {image['id']: image['file_name'] for image in data['images']}\n",
    "\n",
    "    # Convert search label to lower case for case-insensitive matching\n",
    "    search_label_lower = search_label.lower()\n",
    "\n",
    "    # Iterate over the annotations\n",
    "    for annotation in data['annotations']:\n",
    "        category_id = annotation['category_id']\n",
    "        category_name = next(category['name'] for category in data['categories'] if category['id'] == category_id)\n",
    "        \n",
    "        # Check if the search label is part of the category name (case-insensitive)\n",
    "        if search_label_lower in category_name.lower():\n",
    "            image_id = annotation['image_id']\n",
    "            file_name = image_id_to_file_name.get(image_id, \"Unknown\")\n",
    "\n",
    "            # If the image_id is already in the result_images, append the new label\n",
    "            if image_id in result_images:\n",
    "                result_images[image_id]['labels'].append(category_name)\n",
    "            else:\n",
    "                # Otherwise, create a new entry for this image_id\n",
    "                result_images[image_id] = {'file_name': file_name, 'labels': [category_name]}\n",
    "\n",
    "    # Print the results in the notebook\n",
    "    if result_images:\n",
    "        print(f\"Image IDs, file names, and labels containing '{search_label}':\")\n",
    "        for image_id, info in result_images.items():\n",
    "            print(f\"Image ID: {image_id}, File Name: {info['file_name']}, Found Labels: {', '.join(info['labels'])}\")\n",
    "        \n",
    "        # Summary of how many images contain the label\n",
    "        print(f\"\\nLabel containing '{search_label}' found in {len(result_images)} images.\")\n",
    "    else:\n",
    "        print(f\"No images found with label containing '{search_label}'.\")\n",
    "\n",
    "# Example usage with the data dictionary already loaded\n",
    "search_images_by_label(data, 'Sunroof')"
   ]
  },
  {
   "cell_type": "markdown",
   "metadata": {},
   "source": [
    "# 4. Remove complete annotations from a set (e.g., [car, dog])"
   ]
  },
  {
   "cell_type": "code",
   "execution_count": 2,
   "metadata": {},
   "outputs": [],
   "source": [
    "categories_to_remove = [\"Driver_power_seat\", \"Passenger_power_seat\"]  # Replace with the actual category names or IDs to remove\n",
    "category_ids_to_remove = [cat['id'] for cat in data['categories'] if cat['name'] in categories_to_remove]\n",
    "\n",
    "# Filter out annotations with the given category IDs\n",
    "data['annotations'] = [annotation for annotation in data['annotations'] if annotation['category_id'] not in category_ids_to_remove]\n",
    "\n",
    "# Save the modified annotations\n",
    "with open('modified_annotations.json', 'w') as f:\n",
    "    json.dump(data, f)"
   ]
  },
  {
   "cell_type": "markdown",
   "metadata": {},
   "source": [
    "# 5. Merge annotations (e.g., [car_wheel, car wheel, car wheels])"
   ]
  },
  {
   "cell_type": "code",
   "execution_count": 11,
   "metadata": {},
   "outputs": [],
   "source": [
    "annotations_to_merge = ['Steering wheel', 'Steering_wheel']  # Replace with actual annotation names to merge\n",
    "merged_category_name = 'Steering wheel'  # Name for the merged category\n",
    "\n",
    "# Get the category ID of the merged category\n",
    "merged_category_id = None\n",
    "for cat in data['categories']:\n",
    "    if cat['name'] == merged_category_name:\n",
    "        merged_category_id = cat['id']\n",
    "        break\n",
    "\n",
    "if merged_category_id is None:\n",
    "    print(f\"Category '{merged_category_name}' not found.\")\n",
    "else:\n",
    "    # Get IDs of categories to merge\n",
    "    category_ids_to_merge = [cat['id'] for cat in data['categories'] if cat['name'] in annotations_to_merge]\n",
    "\n",
    "    # Replace category IDs in annotations\n",
    "    for annotation in data['annotations']:\n",
    "        if annotation['category_id'] in category_ids_to_merge:\n",
    "            annotation['category_id'] = merged_category_id\n",
    "\n",
    "    # Remove merged categories from the categories list, keeping only the merged one\n",
    "    data['categories'] = [cat for cat in data['categories'] if cat['id'] == merged_category_id or cat['name'] not in annotations_to_merge]\n",
    "\n",
    "    # Save the modified data\n",
    "    with open('merged_annotations.json', 'w') as f:\n",
    "        json.dump(data, f)\n"
   ]
  },
  {
   "cell_type": "markdown",
   "metadata": {},
   "source": [
    "# 6. Renaming Labels"
   ]
  },
  {
   "cell_type": "code",
   "execution_count": 15,
   "metadata": {},
   "outputs": [
    {
     "name": "stdout",
     "output_type": "stream",
     "text": [
      "Renamed category 'A-C Climate control block' to 'AC Climate Control Block'\n",
      "Renamed category 'Armrests' to 'Armrests'\n",
      "Renamed category 'Bluetooth' to 'Bluetooth'\n",
      "Renamed category 'Center_console' to 'Center Console'\n",
      "Renamed category 'Cruise control' to 'Cruise Control'\n",
      "Renamed category 'Driver_dash_controls' to 'Driver Dash Controls'\n",
      "Renamed category 'Driver_seat' to 'Driver Seat'\n",
      "Renamed category 'Front_left_door_panel' to 'Front Left Door Panel'\n",
      "Renamed category 'Gearbox' to 'Gearbox'\n",
      "Renamed category 'HMI Multimedia screen' to 'HMI Multimedia Screen'\n",
      "Renamed category 'Hand brake button' to 'Hand Brake Button'\n",
      "Renamed category 'Lights knobs' to 'Light Knobs'\n",
      "Renamed category 'Multimedia control' to 'Multimedia Control'\n",
      "Renamed category 'Multimedia knob joystick' to 'Multimedia Knob Joystick'\n",
      "Renamed category 'Odometer' to 'Odometer'\n",
      "Renamed category 'Passenger_seat' to 'Passenger Seat'\n",
      "Renamed category 'Rear_air_vents' to 'Rear Air Vents'\n",
      "Renamed category 'Rear_left_seat' to 'Rear Left Seat'\n",
      "Renamed category 'Rear_right_seat' to 'Rear Right Seat'\n",
      "Renamed category 'Steering wheel' to 'Steering Wheel'\n",
      "Renamed category 'Sunroof' to 'Sunroof'\n",
      "Renamed category 'Touchscreen' to 'Touchscreen'\n",
      "Renamed category 'Wipers knobs' to 'Wiper Knobs'\n"
     ]
    }
   ],
   "source": [
    "def rename_categories(data, rename_mapping):\n",
    "    # Iterate over the categories and rename them based on the mapping\n",
    "    for category in data['categories']:\n",
    "        if category['name'] in rename_mapping:\n",
    "            old_name = category['name']\n",
    "            category['name'] = rename_mapping[old_name]\n",
    "            print(f\"Renamed category '{old_name}' to '{category['name']}'\")\n",
    "    \n",
    "    # Return the modified data\n",
    "    return data\n",
    "\n",
    "# Define the mapping of old category names to new names\n",
    "rename_mapping = {\n",
    "    'A-C Climate control block': 'AC Climate Control Block',\n",
    "    'Armrests': 'Armrests',\n",
    "    'Bluetooth': 'Bluetooth',\n",
    "    'Center_console': 'Center Console',\n",
    "    'Cruise control': 'Cruise Control',\n",
    "    'Driver_dash_controls': 'Driver Dash Controls',\n",
    "    'Driver_seat': 'Driver Seat',\n",
    "    'Front_left_door_panel': 'Front Left Door Panel',\n",
    "    'Gearbox': 'Gearbox',\n",
    "    'HMI Multimedia screen': 'HMI Multimedia Screen',\n",
    "    'Hand brake button': 'Hand Brake Button',\n",
    "    'Lights knobs': 'Light Knobs',\n",
    "    'Multimedia control': 'Multimedia Control',\n",
    "    'Multimedia knob joystick': 'Multimedia Knob Joystick',\n",
    "    'Odometer': 'Odometer',\n",
    "    'Passenger_seat': 'Passenger Seat',\n",
    "    'Rear_air_vents': 'Rear Air Vents',\n",
    "    'Rear_left_seat': 'Rear Left Seat',\n",
    "    'Rear_right_seat': 'Rear Right Seat',\n",
    "    'Steering wheel': 'Steering Wheel',\n",
    "    'Sunroof': 'Sunroof',\n",
    "    'Touchscreen': 'Touchscreen',\n",
    "    'Wipers knobs': 'Wiper Knobs'\n",
    "}\n",
    "\n",
    "\n",
    "\n",
    "# Rename the categories in the data\n",
    "data = rename_categories(data, rename_mapping)\n",
    "\n",
    "# Save the modified data to a JSON file later, you can do so:\n",
    "with open('modified_annotations.json', 'w') as f:\n",
    "    json.dump(data, f)\n"
   ]
  }
 ],
 "metadata": {
  "kernelspec": {
   "display_name": "Python 3",
   "language": "python",
   "name": "python3"
  },
  "language_info": {
   "codemirror_mode": {
    "name": "ipython",
    "version": 3
   },
   "file_extension": ".py",
   "mimetype": "text/x-python",
   "name": "python",
   "nbconvert_exporter": "python",
   "pygments_lexer": "ipython3",
   "version": "3.12.6"
  }
 },
 "nbformat": 4,
 "nbformat_minor": 2
}
